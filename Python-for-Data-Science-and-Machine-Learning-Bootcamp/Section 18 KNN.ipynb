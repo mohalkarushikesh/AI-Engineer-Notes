# %%
import pandas as pd
import numpy as np
import matplotlib.pyplot as plt
import seaborn as sns
%matplotlib inline

# %%
df = pd.read_csv("Classified Data", index_col=0)

# %%
df.head()

# %%
from sklearn.preprocessing import StandardScaler

# %%
scalar = StandardScaler()

# %%
scalar.fit(df.drop('TARGET CLASS', axis=1))

# %%
scaled_feactures = scalar.transform(df.drop('TARGET CLASS', axis=1))

# %%
scaled_feactures

# %%
df.columns[:-1]

# %%
df_feat = pd.DataFrame(scaled_feactures, columns=df.columns[:-1])

# %%
df_feat.head()

# %%
df.columns[:-1]

# %%
from sklearn.model_selection import train_test_split

# %%
X = df_feat
y = df['TARGET CLASS']

X_train, X_test, y_train, y_test = train_test_split(X, y, test_size=0.3, random_state=101)

# %%
from sklearn.neighbors import KNeighborsClassifier

# %%
knn = KNeighborsClassifier(n_neighbors=1)

# %%
knn.fit(X_train, y_train)

# %%
pred = knn.predict(X_test)

# %%
from sklearn.metrics import classification_report, confusion_matrix

# %%
print("Classification Report: \n", classification_report(y_test, pred))
print("Confusion matrix Report: \n", confusion_matrix, y_test, pred)

# %%
error_rate = []

for i in range(1, 40):
    knn = KNeighborsClassifier(n_neighbors=i)
    knn.fit(X_train, y_train)
    pred_i = knn.predict(X_test)
    error_rate.append(np.mean(pred_i != y_test))

# %%
plt.figure(figsize=(10,6))
plt.plot(range(1, 40), error_rate, color='blue', linestyle='dashed', marker='o', markerfacecolor='red', markersize=10)
plt.title('Error Rate vs K Value')
plt.xlabel('K Value')
plt.ylabel('Error rate')

# %%
knn = KNeighborsClassifier(n_neighbors=17)
knn.fit(X_train, y_train)
pred = knn.predict(X_test)
print("Classification Report:\n", classification_report(y_test, pred))
print("Confusion Matrix: \n", confusion_matrix(y_test, pred))


